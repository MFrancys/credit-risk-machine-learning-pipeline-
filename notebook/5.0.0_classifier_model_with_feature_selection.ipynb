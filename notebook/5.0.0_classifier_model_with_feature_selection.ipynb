{
 "cells": [
  {
   "cell_type": "markdown",
   "id": "2a6464a7-4718-431f-8ca4-44eb5ab3c057",
   "metadata": {},
   "source": [
    "# 5.0.0. Classifier Model with Feature Selection\n",
    "\n",
    "### Methodology\n",
    "\n",
    "This step in the analysis aims to optimize the predictive modeling process by employing FeatureWiz to identify and retain the most relevant features from a set of 142 initial candidates. \n",
    "\n",
    "### Conclusion\n",
    " From the initial set of 145 features, FeatureWiz successfully narrows down the feature set to 60. "
   ]
  },
  {
   "cell_type": "code",
   "execution_count": 1,
   "id": "be92842a-8b60-4bee-9490-cfc91468e0d0",
   "metadata": {},
   "outputs": [
    {
     "name": "stdout",
     "output_type": "stream",
     "text": [
      "Imported lazytransform v1.16. \n",
      "\n",
      "Imported featurewiz 0.5.7. Use the following syntax:\n",
      "    >>> wiz = FeatureWiz(feature_engg = '', nrows=None, transform_target=True,\n",
      "        \t\tcategory_encoders=\"auto\", auto_encoders='VAE', ae_options={},\n",
      "        \t\tadd_missing=False, imbalanced=False, verbose=0)\n",
      "    >>> X_train_selected, y_train = wiz.fit_transform(X_train, y_train)\n",
      "    >>> X_test_selected = wiz.transform(X_test)\n",
      "    >>> selected_features = wiz.features\n",
      "    \n"
     ]
    }
   ],
   "source": [
    "import pandas as pd\n",
    "from pathlib import Path\n",
    "from featurewiz import FeatureWiz\n",
    "import pandas as pd\n",
    "import yaml\n",
    "import lightgbm as lgbm\n",
    "from pathlib import Path\n",
    "from sklearn.metrics import roc_auc_score\n",
    "from xgboost import XGBClassifier\n",
    "from sklearn.feature_selection import SequentialFeatureSelector\n"
   ]
  },
  {
   "cell_type": "markdown",
   "id": "f873b2b3-c215-48e7-bf5e-01c1b57bcaee",
   "metadata": {},
   "source": [
    "### 1. Load data"
   ]
  },
  {
   "cell_type": "code",
   "execution_count": 2,
   "id": "424fa87f-3c49-48df-a8f7-6715ac67d52d",
   "metadata": {},
   "outputs": [
    {
     "data": {
      "text/plain": [
       "(9479, 142)"
      ]
     },
     "execution_count": 2,
     "metadata": {},
     "output_type": "execute_result"
    }
   ],
   "source": [
    "with open(\"config.yaml\", \"r\") as f:\n",
    "    config = yaml.safe_load(f)\n",
    "\n",
    "model_parameters = config[\"model_parameters\"][\"xgbm\"]\n",
    "numeric_features = config[\"features\"][\"numerical\"]\n",
    "features = numeric_features\n",
    "target = config[\"main\"][\"target\"]\n",
    "data_train_path = Path.cwd().parent / config[\"main\"][\"data_train_path\"]\n",
    "train_validation_path = Path.cwd().parent / config[\"main\"][\"data_validation_path\"]\n",
    "\n",
    "train_df = pd.read_pickle(data_train_path)\n",
    "validation_df = pd.read_pickle(train_validation_path)\n",
    "\n",
    "X_train, Y_train = train_df[features], train_df[target]\n",
    "X_val, Y_val = validation_df[features], validation_df[target]\n",
    "\n",
    "split_seed = config[\"main\"][\"random_seed\"]\n",
    "\n",
    "X_train.shape"
   ]
  },
  {
   "cell_type": "markdown",
   "id": "c2f50eb7-39d7-4d72-b82d-2027c563a8d6",
   "metadata": {},
   "source": [
    "### 2. Maximun relevance minimum redundancy\n"
   ]
  },
  {
   "cell_type": "code",
   "execution_count": 4,
   "id": "5346d6cc-f962-4cf7-a78e-47664ae1380a",
   "metadata": {},
   "outputs": [
    {
     "name": "stdout",
     "output_type": "stream",
     "text": [
      "featurewiz is given 0.8 as correlation limit...\n",
      "    Skipping feature engineering since no feature_engg input...\n",
      "    final list of category encoders given: ['label', 'label']\n",
      "    final list of scalers given: []\n"
     ]
    },
    {
     "ename": "AttributeError",
     "evalue": "'tuple' object has no attribute 'shape'",
     "output_type": "error",
     "traceback": [
      "\u001b[0;31m---------------------------------------------------------------------------\u001b[0m",
      "\u001b[0;31mAttributeError\u001b[0m                            Traceback (most recent call last)",
      "Cell \u001b[0;32mIn[4], line 4\u001b[0m\n\u001b[1;32m      1\u001b[0m \u001b[38;5;66;03m#https://pypi.org/project/featurewiz/\u001b[39;00m\n\u001b[1;32m      2\u001b[0m fwiz \u001b[38;5;241m=\u001b[39m FeatureWiz(feature_engg \u001b[38;5;241m=\u001b[39m \u001b[38;5;124m'\u001b[39m\u001b[38;5;124m'\u001b[39m, corr_limit\u001b[38;5;241m=\u001b[39m\u001b[38;5;241m0.85\u001b[39m)\n\u001b[0;32m----> 4\u001b[0m X_train \u001b[38;5;241m=\u001b[39m \u001b[43mfwiz\u001b[49m\u001b[38;5;241;43m.\u001b[39;49m\u001b[43mfit_transform\u001b[49m\u001b[43m(\u001b[49m\u001b[43mX_train\u001b[49m\u001b[43m,\u001b[49m\u001b[43m \u001b[49m\u001b[43mY_train\u001b[49m\u001b[43m)\u001b[49m\n\u001b[1;32m      5\u001b[0m X_test_selected \u001b[38;5;241m=\u001b[39m fwiz\u001b[38;5;241m.\u001b[39mtransform(X_val)\n\u001b[1;32m      6\u001b[0m fwiz\u001b[38;5;241m.\u001b[39mfeatures  \n",
      "File \u001b[0;32m~/anaconda3/envs/myenv-credit-risk-machine-learning-pipeline/lib/python3.11/site-packages/sklearn/utils/_set_output.py:140\u001b[0m, in \u001b[0;36m_wrap_method_output.<locals>.wrapped\u001b[0;34m(self, X, *args, **kwargs)\u001b[0m\n\u001b[1;32m    138\u001b[0m \u001b[38;5;129m@wraps\u001b[39m(f)\n\u001b[1;32m    139\u001b[0m \u001b[38;5;28;01mdef\u001b[39;00m \u001b[38;5;21mwrapped\u001b[39m(\u001b[38;5;28mself\u001b[39m, X, \u001b[38;5;241m*\u001b[39margs, \u001b[38;5;241m*\u001b[39m\u001b[38;5;241m*\u001b[39mkwargs):\n\u001b[0;32m--> 140\u001b[0m     data_to_wrap \u001b[38;5;241m=\u001b[39m \u001b[43mf\u001b[49m\u001b[43m(\u001b[49m\u001b[38;5;28;43mself\u001b[39;49m\u001b[43m,\u001b[49m\u001b[43m \u001b[49m\u001b[43mX\u001b[49m\u001b[43m,\u001b[49m\u001b[43m \u001b[49m\u001b[38;5;241;43m*\u001b[39;49m\u001b[43margs\u001b[49m\u001b[43m,\u001b[49m\u001b[43m \u001b[49m\u001b[38;5;241;43m*\u001b[39;49m\u001b[38;5;241;43m*\u001b[39;49m\u001b[43mkwargs\u001b[49m\u001b[43m)\u001b[49m\n\u001b[1;32m    141\u001b[0m     \u001b[38;5;28;01mif\u001b[39;00m \u001b[38;5;28misinstance\u001b[39m(data_to_wrap, \u001b[38;5;28mtuple\u001b[39m):\n\u001b[1;32m    142\u001b[0m         \u001b[38;5;66;03m# only wrap the first output for cross decomposition\u001b[39;00m\n\u001b[1;32m    143\u001b[0m         \u001b[38;5;28;01mreturn\u001b[39;00m (\n\u001b[1;32m    144\u001b[0m             _wrap_data_with_container(method, data_to_wrap[\u001b[38;5;241m0\u001b[39m], X, \u001b[38;5;28mself\u001b[39m),\n\u001b[1;32m    145\u001b[0m             \u001b[38;5;241m*\u001b[39mdata_to_wrap[\u001b[38;5;241m1\u001b[39m:],\n\u001b[1;32m    146\u001b[0m         )\n",
      "File \u001b[0;32m~/anaconda3/envs/myenv-credit-risk-machine-learning-pipeline/lib/python3.11/site-packages/featurewiz/featurewiz.py:3325\u001b[0m, in \u001b[0;36mFeatureWiz.fit_transform\u001b[0;34m(self, X, y)\u001b[0m\n\u001b[1;32m   3324\u001b[0m \u001b[38;5;28;01mdef\u001b[39;00m \u001b[38;5;21mfit_transform\u001b[39m(\u001b[38;5;28mself\u001b[39m, X, y):\n\u001b[0;32m-> 3325\u001b[0m     \u001b[38;5;28;43mself\u001b[39;49m\u001b[38;5;241;43m.\u001b[39;49m\u001b[43mfit\u001b[49m\u001b[43m(\u001b[49m\u001b[43mX\u001b[49m\u001b[43m,\u001b[49m\u001b[43m \u001b[49m\u001b[43my\u001b[49m\u001b[43m)\u001b[49m\n\u001b[1;32m   3326\u001b[0m     X_sel, y_sel \u001b[38;5;241m=\u001b[39m \u001b[38;5;28mself\u001b[39m\u001b[38;5;241m.\u001b[39mtransform(X, y)\n\u001b[1;32m   3327\u001b[0m     \u001b[38;5;28;01mreturn\u001b[39;00m X_sel, y_sel\n",
      "File \u001b[0;32m~/anaconda3/envs/myenv-credit-risk-machine-learning-pipeline/lib/python3.11/site-packages/featurewiz/featurewiz.py:3310\u001b[0m, in \u001b[0;36mFeatureWiz.fit\u001b[0;34m(self, X, y)\u001b[0m\n\u001b[1;32m   3306\u001b[0m \u001b[38;5;66;03m######################################################################################\u001b[39;00m\n\u001b[1;32m   3307\u001b[0m \u001b[38;5;66;03m#####      MAKING FEATURE_TYPE AND FEATURE_GEN SELECTIONS HERE           #############\u001b[39;00m\n\u001b[1;32m   3308\u001b[0m \u001b[38;5;66;03m######################################################################################\u001b[39;00m\n\u001b[1;32m   3309\u001b[0m X_sel \u001b[38;5;241m=\u001b[39m copy\u001b[38;5;241m.\u001b[39mdeepcopy(X)\n\u001b[0;32m-> 3310\u001b[0m \u001b[38;5;28mprint\u001b[39m(\u001b[38;5;124m'\u001b[39m\u001b[38;5;124mLoaded input data. Shape = \u001b[39m\u001b[38;5;132;01m%s\u001b[39;00m\u001b[38;5;124m'\u001b[39m \u001b[38;5;241m%\u001b[39m(\u001b[43mX_sel\u001b[49m\u001b[38;5;241;43m.\u001b[39;49m\u001b[43mshape\u001b[49m,))\n\u001b[1;32m   3311\u001b[0m \u001b[38;5;66;03m##### This where we find the features  to modify ######################\u001b[39;00m\n\u001b[1;32m   3312\u001b[0m preds \u001b[38;5;241m=\u001b[39m [x \u001b[38;5;28;01mfor\u001b[39;00m x \u001b[38;5;129;01min\u001b[39;00m \u001b[38;5;28mlist\u001b[39m(X_sel) \u001b[38;5;28;01mif\u001b[39;00m x \u001b[38;5;129;01mnot\u001b[39;00m \u001b[38;5;129;01min\u001b[39;00m \u001b[38;5;28mself\u001b[39m\u001b[38;5;241m.\u001b[39mtargets]\n",
      "\u001b[0;31mAttributeError\u001b[0m: 'tuple' object has no attribute 'shape'"
     ]
    }
   ],
   "source": [
    "#https://pypi.org/project/featurewiz/\n",
    "fwiz = FeatureWiz(feature_engg = '', corr_limit=0.85)\n",
    "\n",
    "X_train = fwiz.fit_transform(X_train, Y_train)\n",
    "X_test_selected = fwiz.transform(X_val)\n",
    "fwiz.features  "
   ]
  },
  {
   "cell_type": "code",
   "execution_count": null,
   "id": "35a31acc-7aa9-4203-8b71-106ae0a5b7db",
   "metadata": {},
   "outputs": [],
   "source": []
  }
 ],
 "metadata": {
  "kernelspec": {
   "display_name": "myenv-credit-risk-machine-learning-pipeline",
   "language": "python",
   "name": "myenv-credit-risk-machine-learning-pipeline"
  },
  "language_info": {
   "codemirror_mode": {
    "name": "ipython",
    "version": 3
   },
   "file_extension": ".py",
   "mimetype": "text/x-python",
   "name": "python",
   "nbconvert_exporter": "python",
   "pygments_lexer": "ipython3",
   "version": "3.11.0"
  }
 },
 "nbformat": 4,
 "nbformat_minor": 5
}
