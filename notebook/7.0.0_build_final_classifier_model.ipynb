{
 "cells": [
  {
   "cell_type": "markdown",
   "id": "6695b45f-65bd-4025-85de-37a4bca2a086",
   "metadata": {
    "tags": []
   },
   "source": [
    "# 7.0.0 Building a Final Classifier Model\n",
    "\n",
    "### Methodology\n",
    "\n",
    "The modeling process culminates in constructing the final classifier model using XGBoost. The final model incorporates a set of finely tuned parameters to optimize performance, mainly focusing on handling the dataset's imbalanced nature. The parameters were selected based on previous optimization efforts, ensuring the model is robust, generalizes well on unseen data, and maximizes the AUC metric.\n",
    "\n",
    "Final Model Parameters:\n",
    "\n",
    "    - 'objective': 'binary:logistic'\n",
    "    - 'booster': 'gbtree'\n",
    "    - 'eval_metric': 'auc'\n",
    "    - 'eta': 0.01\n",
    "    - 'gamma': 0.1\n",
    "    - 'max_depth': 6\n",
    "    - 'min_child_weight': 3\n",
    "    - 'subsample': 0.8\n",
    "    - 'colsample_bytree': 0.8\n",
    "    - 'scale_pos_weight': 4\n",
    "    - 'lambda': 1\n",
    "    - 'alpha': 0.1\n",
    "    - 'max_delta_step': 1\n",
    "    - 'n_estimators': 100\n",
    "\n",
    "Final Features: \n",
    "\n",
    "    - 'previous_internal_apps__account_to_application_days'\n",
    "    - 'previous_internal_apps__n_bnpl_approved_apps'\n",
    "    - 'previous_internal_apps__n_sf_apps'\n",
    "    - 'previous_internal_apps__ratio_bnpl_approved'\n",
    "    - 'credit_reports__balance_due_ratio_median'\n",
    "    - 'credit_reports__balance_due_std_revolvente'\n",
    "    - 'credit_reports__balance_due_worst_delay_ratio_median_pagos_fijos'\n",
    "    - 'credit_reports__cdc_inquiry_id_count_por_determinar'\n",
    "    - 'credit_reports__credit_limit_median_revolvente'\n",
    "    - 'credit_reports__debt_ratio_median_pagos_fijos'\n",
    "    - 'credit_reports__loans_with_at_least_one_delayed_ratio'\n",
    "    - 'credit_reports__severity_delayed_payments_median'\n",
    "    - 'credit_reports__severity_delayed_payments_median_pagos_fijos'\n",
    "    - 'credit_reports__severity_delayed_payments_median_revolvente'\n",
    "\n",
    "\n",
    "### Conclusion\n",
    "The final model demonstrated a decent level of predictive performance, as evidenced by the key metrics:\n",
    "\n",
    "- **ROC AUC Score:** 0.6111\n",
    "- **Precision-Recall AUC:** 0.2832\n",
    "- **Kolmogorov-Smirnov Statistic:** 0.1780\n",
    "\n",
    "These results indicate the model's effectiveness in discriminating between positive and negative classes despite the inherent challenges posed by the imbalanced dataset. The ROC AUC score highlights the model's capability to separate classes at various threshold settings. However, the Precision-Recall AUC, particularly critical in the context of imbalanced datasets, suggests room for improvement, especially in capturing the minority class effectively.\n",
    "\n",
    "**Future Work:**\n",
    "- Further tuning of hyperparameters might yield better performance, particularly in improving the Precision-Recall AUC.\n",
    "- Incorporating additional features or exploring more advanced feature engineering techniques could also enhance the model's ability to capture complex patterns.\n",
    "- Experimentation with different model architectures or ensemble methods could improve overall accuracy and stability.\n",
    "\n",
    "These steps will help refine the model to meet better the business goals of reducing credit risk while ensuring fair and efficient loan approval processes."
   ]
  },
  {
   "cell_type": "code",
   "execution_count": 1,
   "id": "b3b64377-e81f-498d-ba8b-c4e011d9677b",
   "metadata": {},
   "outputs": [],
   "source": [
    "import pandas as pd\n",
    "import numpy as np\n",
    "import yaml\n",
    "from pathlib import Path\n",
    "from xgboost import XGBClassifier\n",
    "\n",
    "from src.utils import calculate_metrics, save_pickle"
   ]
  },
  {
   "cell_type": "markdown",
   "id": "29a5aa89-3092-469b-b185-b03b4c5fd677",
   "metadata": {},
   "source": [
    "### 1. Loan Data\n"
   ]
  },
  {
   "cell_type": "code",
   "execution_count": 2,
   "id": "424fa87f-3c49-48df-a8f7-6715ac67d52d",
   "metadata": {},
   "outputs": [
    {
     "data": {
      "text/plain": [
       "(9479, 14)"
      ]
     },
     "execution_count": 2,
     "metadata": {},
     "output_type": "execute_result"
    }
   ],
   "source": [
    "with open(\"config.yaml\", \"r\") as f:\n",
    "    config = yaml.safe_load(f)\n",
    "    \n",
    "model_parameters = config[\"model_parameters\"][\"xgbm\"]\n",
    "numeric_features = config[\"filter_features\"][\"numerical\"]\n",
    "features = numeric_features\n",
    "target = config[\"main\"][\"target\"]\n",
    "data_train_path = Path.cwd().parent / config[\"main\"][\"data_train_path\"]\n",
    "train_validation_path = Path.cwd().parent / config[\"main\"][\"data_validation_path\"]\n",
    "\n",
    "train_df = pd.read_pickle(data_train_path)\n",
    "validation_df = pd.read_pickle(train_validation_path)\n",
    "\n",
    "X_train, Y_train = train_df[features], train_df[target]\n",
    "X_valid, Y_valid = validation_df[features], validation_df[target]\n",
    "\n",
    "split_seed = config[\"main\"][\"random_seed\"]\n",
    "\n",
    "X_train.shape"
   ]
  },
  {
   "cell_type": "markdown",
   "id": "6b000a3f-769f-4aad-8f71-c75c34b64ec2",
   "metadata": {},
   "source": [
    "### 2. Train Model"
   ]
  },
  {
   "cell_type": "code",
   "execution_count": 3,
   "id": "71bfb00e-11b3-40d5-af96-8dca2de0c7a0",
   "metadata": {},
   "outputs": [
    {
     "data": {
      "text/plain": [
       "{'roc_auc_score': 0.6110941648308197,\n",
       " 'pr_auc': 0.28320533857646,\n",
       " 'ks': 0.17798678190137265}"
      ]
     },
     "execution_count": 3,
     "metadata": {},
     "output_type": "execute_result"
    }
   ],
   "source": [
    "xgbm_model = XGBClassifier(missing=np.nan, **model_parameters, random_state=split_seed)\n",
    "\n",
    "xgbm_model.fit(X_train, Y_train)\n",
    "xgbm_preds = xgbm_model.predict_proba(X_valid)[:, 1]\n",
    "\n",
    "model_results = calculate_metrics(Y_valid, xgbm_preds)\n",
    "model_results"
   ]
  },
  {
   "cell_type": "markdown",
   "id": "70ddc5e5-2070-4311-af2c-7d1a0e775b61",
   "metadata": {},
   "source": [
    "### 3. Save Model Classifier Object "
   ]
  },
  {
   "cell_type": "code",
   "execution_count": 6,
   "id": "6e517e5c-2aed-4ca2-b569-2e05640a6f6f",
   "metadata": {},
   "outputs": [],
   "source": [
    "dataset_date = str(train_validation_path).split(\"/\")[-1:][0][0:6]\n",
    "model_train_path = Path.cwd().parent / f\"models/develop/{dataset_date}_xgbm_classifier.pickle\"\n",
    "\n",
    "save_pickle(xgbm_model, model_train_path)"
   ]
  },
  {
   "cell_type": "code",
   "execution_count": null,
   "id": "c49ee209-12d8-4b1b-80cd-e10597c7a493",
   "metadata": {},
   "outputs": [],
   "source": []
  },
  {
   "cell_type": "code",
   "execution_count": null,
   "id": "9753c961-ca9d-4945-854d-fa7b4d8a0530",
   "metadata": {},
   "outputs": [],
   "source": []
  }
 ],
 "metadata": {
  "kernelspec": {
   "display_name": "myenv-credit-risk-machine-learning-pipeline-",
   "language": "python",
   "name": "myenv-credit-risk-machine-learning-pipeline-"
  },
  "language_info": {
   "codemirror_mode": {
    "name": "ipython",
    "version": 3
   },
   "file_extension": ".py",
   "mimetype": "text/x-python",
   "name": "python",
   "nbconvert_exporter": "python",
   "pygments_lexer": "ipython3",
   "version": "3.12.1"
  }
 },
 "nbformat": 4,
 "nbformat_minor": 5
}
