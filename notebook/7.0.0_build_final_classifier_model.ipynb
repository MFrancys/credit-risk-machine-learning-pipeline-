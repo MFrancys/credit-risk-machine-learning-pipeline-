{
 "cells": [
  {
   "cell_type": "markdown",
   "id": "6695b45f-65bd-4025-85de-37a4bca2a086",
   "metadata": {
    "tags": []
   },
   "source": [
    "# 7.0.0 Building a Final Classifier Model\n",
    "\n",
    "Methodology\n",
    "\n",
    "The culmination of the modeling process involves the construction and deployment of the final classifier model using XGBoost. The final model incorporates a set of finely tuned parameters to optimize performance, particularly focusing on handling the imbalanced nature of the dataset. The parameters were selected based on previous optimization efforts, ensuring that the model is robust, generalizes well on unseen data, and maximizes the AUC metric.\n",
    "\n",
    "Model Parameters:\n",
    "\n"
   ]
  },
  {
   "cell_type": "code",
   "execution_count": 1,
   "id": "b3b64377-e81f-498d-ba8b-c4e011d9677b",
   "metadata": {},
   "outputs": [],
   "source": [
    "import pandas as pd\n",
    "import numpy as np\n",
    "import yaml\n",
    "from pathlib import Path\n",
    "from xgboost import XGBClassifier\n",
    "\n",
    "from src.utils import calculate_metrics, save_pickle"
   ]
  },
  {
   "cell_type": "markdown",
   "id": "29a5aa89-3092-469b-b185-b03b4c5fd677",
   "metadata": {},
   "source": [
    "### 1. Loan Data\n"
   ]
  },
  {
   "cell_type": "code",
   "execution_count": 2,
   "id": "424fa87f-3c49-48df-a8f7-6715ac67d52d",
   "metadata": {},
   "outputs": [
    {
     "data": {
      "text/plain": [
       "(9479, 14)"
      ]
     },
     "execution_count": 2,
     "metadata": {},
     "output_type": "execute_result"
    }
   ],
   "source": [
    "with open(\"config.yaml\", \"r\") as f:\n",
    "    config = yaml.safe_load(f)\n",
    "    \n",
    "model_parameters = config[\"model_parameters\"][\"xgbm\"]\n",
    "numeric_features = config[\"filter_features\"][\"numerical\"]\n",
    "features = numeric_features\n",
    "target = config[\"main\"][\"target\"]\n",
    "data_train_path = Path.cwd().parent / config[\"main\"][\"data_train_path\"]\n",
    "train_validation_path = Path.cwd().parent / config[\"main\"][\"data_validation_path\"]\n",
    "\n",
    "train_df = pd.read_pickle(data_train_path)\n",
    "validation_df = pd.read_pickle(train_validation_path)\n",
    "\n",
    "X_train, Y_train = train_df[features], train_df[target]\n",
    "X_valid, Y_valid = validation_df[features], validation_df[target]\n",
    "\n",
    "split_seed = config[\"main\"][\"random_seed\"]\n",
    "\n",
    "X_train.shape"
   ]
  },
  {
   "cell_type": "markdown",
   "id": "6b000a3f-769f-4aad-8f71-c75c34b64ec2",
   "metadata": {},
   "source": [
    "### 2. Train Model"
   ]
  },
  {
   "cell_type": "code",
   "execution_count": 3,
   "id": "71bfb00e-11b3-40d5-af96-8dca2de0c7a0",
   "metadata": {},
   "outputs": [
    {
     "name": "stderr",
     "output_type": "stream",
     "text": [
      "/Users/mfrancys/.local/share/virtualenvs/credit-risk-machine-learning-pipeline-TF6eVTA0/lib/python3.12/site-packages/xgboost/core.py:160: UserWarning: [01:27:09] WARNING: /Users/runner/work/xgboost/xgboost/src/learner.cc:742: \n",
      "Parameters: { \"booster\"\", \"eval_metric\"\", \"objective\"\" } are not used.\n",
      "\n",
      "  warnings.warn(smsg, UserWarning)\n"
     ]
    },
    {
     "data": {
      "text/plain": [
       "{'roc_auc_score': 0.6110941648308197,\n",
       " 'pr_auc': 0.28320533857646,\n",
       " 'ks': 0.17798678190137265}"
      ]
     },
     "execution_count": 3,
     "metadata": {},
     "output_type": "execute_result"
    }
   ],
   "source": [
    "xgbm_model = XGBClassifier(missing=np.nan, **model_parameters, random_state=split_seed)\n",
    "\n",
    "xgbm_model.fit(X_train, Y_train)\n",
    "xgbm_preds = xgbm_model.predict_proba(X_valid)[:, 1]\n",
    "\n",
    "model_results = calculate_metrics(Y_valid, xgbm_preds)\n",
    "model_results"
   ]
  },
  {
   "cell_type": "markdown",
   "id": "70ddc5e5-2070-4311-af2c-7d1a0e775b61",
   "metadata": {},
   "source": [
    "### 3. Save Model Classifier Object "
   ]
  },
  {
   "cell_type": "code",
   "execution_count": 4,
   "id": "6e517e5c-2aed-4ca2-b569-2e05640a6f6f",
   "metadata": {},
   "outputs": [],
   "source": [
    "dataset_date = str(train_validation_path).split(\"/\")[-1:][0][0:6]\n",
    "model_train_path = Path.cwd().parent / f\"models/develop/{dataset_date}_xgbm_classifier.pickle\"\n",
    "\n",
    "save_pickle(xgbm_model, model_train_path)"
   ]
  },
  {
   "cell_type": "code",
   "execution_count": null,
   "id": "c49ee209-12d8-4b1b-80cd-e10597c7a493",
   "metadata": {},
   "outputs": [],
   "source": []
  },
  {
   "cell_type": "code",
   "execution_count": null,
   "id": "9753c961-ca9d-4945-854d-fa7b4d8a0530",
   "metadata": {},
   "outputs": [],
   "source": []
  }
 ],
 "metadata": {
  "kernelspec": {
   "display_name": "credit-risk-machine-learning-pipeline",
   "language": "python",
   "name": "credit-risk-machine-learning-pipeline"
  },
  "language_info": {
   "codemirror_mode": {
    "name": "ipython",
    "version": 3
   },
   "file_extension": ".py",
   "mimetype": "text/x-python",
   "name": "python",
   "nbconvert_exporter": "python",
   "pygments_lexer": "ipython3",
   "version": "3.12.1"
  }
 },
 "nbformat": 4,
 "nbformat_minor": 5
}
