{
 "cells": [
  {
   "cell_type": "markdown",
   "id": "2a6464a7-4718-431f-8ca4-44eb5ab3c057",
   "metadata": {},
   "source": [
    "# 5.0.0. Classifier Model with Feature Selection"
   ]
  },
  {
   "cell_type": "code",
   "execution_count": 7,
   "id": "be92842a-8b60-4bee-9490-cfc91468e0d0",
   "metadata": {},
   "outputs": [],
   "source": [
    "import pandas as pd\n",
    "import numpy as np\n",
    "from pathlib import Path\n",
    "import pandas as pd\n",
    "import yaml\n",
    "import lightgbm as lgbm\n",
    "from pathlib import Path\n",
    "from sklearn.metrics import roc_auc_score\n",
    "from xgboost import XGBClassifier\n",
    "from sklearn.feature_selection import SequentialFeatureSelector\n",
    "from src.boruta import BorutaPy\n",
    "import warnings\n",
    "warnings.filterwarnings('ignore')"
   ]
  },
  {
   "cell_type": "markdown",
   "id": "f873b2b3-c215-48e7-bf5e-01c1b57bcaee",
   "metadata": {},
   "source": [
    "### 1. Load data"
   ]
  },
  {
   "cell_type": "code",
   "execution_count": 8,
   "id": "424fa87f-3c49-48df-a8f7-6715ac67d52d",
   "metadata": {},
   "outputs": [],
   "source": [
    "with open(\"config.yaml\", \"r\") as f:\n",
    "    config = yaml.safe_load(f)\n",
    "\n",
    "model_parameters = config[\"model_parameters\"][\"xgbm\"]\n",
    "numeric_features = config[\"features\"][\"numerical\"]\n",
    "features = numeric_features\n",
    "target = config[\"main\"][\"target\"]\n",
    "data_train_path = Path.cwd().parent / config[\"main\"][\"data_train_path\"]\n",
    "train_validation_path = Path.cwd().parent / config[\"main\"][\"data_validation_path\"]\n",
    "\n",
    "train_df = pd.read_pickle(data_train_path)\n",
    "validation_df = pd.read_pickle(train_validation_path)\n",
    "\n",
    "X_train, Y_train = train_df[features], train_df[target]\n",
    "X_val, Y_val = validation_df[features], validation_df[target]\n",
    "\n",
    "split_seed = config[\"main\"][\"random_seed\"]"
   ]
  },
  {
   "cell_type": "markdown",
   "id": "ddc54124-1254-42ad-9db4-d5eedfc05d8c",
   "metadata": {},
   "source": [
    "### 1. Boruta"
   ]
  },
  {
   "cell_type": "code",
   "execution_count": 9,
   "id": "4d8e503a-1575-4391-ac96-e9bb8b1b3deb",
   "metadata": {},
   "outputs": [
    {
     "data": {
      "text/plain": [
       "['previous_internal_apps__account_to_application_days',\n",
       " 'previous_internal_apps__n_bnpl_approved_apps',\n",
       " 'previous_internal_apps__n_sf_apps',\n",
       " 'previous_internal_apps__ratio_bnpl_approved',\n",
       " 'credit_reports__balance_due_ratio_median',\n",
       " 'credit_reports__balance_due_std_revolvente',\n",
       " 'credit_reports__balance_due_worst_delay_ratio_median_pagos_fijos',\n",
       " 'credit_reports__cdc_inquiry_id_count_por_determinar',\n",
       " 'credit_reports__credit_limit_median_revolvente',\n",
       " 'credit_reports__debt_ratio_median_pagos_fijos',\n",
       " 'credit_reports__loans_with_at_least_one_delayed_ratio',\n",
       " 'credit_reports__severity_delayed_payments_median',\n",
       " 'credit_reports__severity_delayed_payments_median_pagos_fijos',\n",
       " 'credit_reports__severity_delayed_payments_median_revolvente']"
      ]
     },
     "execution_count": 9,
     "metadata": {},
     "output_type": "execute_result"
    }
   ],
   "source": [
    "model = XGBClassifier(**model_parameters, random_state=split_seed)   \n",
    "\n",
    "bfs = BorutaPy(model, n_estimators='auto', random_state=split_seed).fit(\n",
    "    train_df[features], train_df[target]\n",
    ")\n",
    "boruta_features = list(np.array(features)[bfs.support_])\n",
    "boruta_features"
   ]
  },
  {
   "cell_type": "code",
   "execution_count": null,
   "id": "36d5e139-5470-4424-9264-635dfe8fdc8f",
   "metadata": {},
   "outputs": [],
   "source": []
  }
 ],
 "metadata": {
  "kernelspec": {
   "display_name": "myenv-boruta",
   "language": "python",
   "name": "myenv-boruta"
  },
  "language_info": {
   "codemirror_mode": {
    "name": "ipython",
    "version": 3
   },
   "file_extension": ".py",
   "mimetype": "text/x-python",
   "name": "python",
   "nbconvert_exporter": "python",
   "pygments_lexer": "ipython3",
   "version": "3.12.1"
  }
 },
 "nbformat": 4,
 "nbformat_minor": 5
}
