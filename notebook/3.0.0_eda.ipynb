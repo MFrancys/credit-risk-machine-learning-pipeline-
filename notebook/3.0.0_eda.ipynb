{
 "cells": [
  {
   "cell_type": "markdown",
   "metadata": {},
   "source": [
    "# 3.0.0. EDA\n",
    "\n",
    "### Methodology\n",
    "\n",
    "As part of our data preparation and understanding phase, we conducted an extensive exploratory data analysis on the training dataset using the `pandas_profiling` package. This tool enables an automated and comprehensive EDA, generating a detailed report that includes:\n",
    "\n",
    "- Statistics: Descriptive statistics that summarize a dataset's distribution's central tendency, dispersion, and shape.\n",
    "- Correlations: Analysis of the relationships between features, identifying which pairs have the strongest correlations with the target variable.\n",
    "- Missing Values: Identifying and visualizing missing data patterns, helping to decide necessary preprocessing steps.\n",
    "- Distributions: Visualizations of data distributions and variance to understand the skewness and outliers that might influence model performance.\n",
    "\n",
    "Note: profile.to_file() generate a data profiling html, but it is too large to load into a GitHub repository."
   ]
  },
  {
   "cell_type": "code",
   "execution_count": 12,
   "metadata": {},
   "outputs": [],
   "source": [
    "import yaml\n",
    "import matplotlib.pyplot as plt\n",
    "import seaborn as sns\n",
    "import pandas as pd\n",
    "import numpy as np\n",
    "from pathlib import Path\n",
    "from ydata_profiling import ProfileReport"
   ]
  },
  {
   "cell_type": "markdown",
   "metadata": {},
   "source": [
    "### 1. Load Data "
   ]
  },
  {
   "cell_type": "code",
   "execution_count": 13,
   "metadata": {},
   "outputs": [
    {
     "data": {
      "text/plain": [
       "(9479, 142)"
      ]
     },
     "execution_count": 13,
     "metadata": {},
     "output_type": "execute_result"
    }
   ],
   "source": [
    "with open(\"config.yaml\", \"r\") as f:\n",
    "    config = yaml.safe_load(f)\n",
    "    \n",
    "numeric_features = config[\"features\"][\"numerical\"]\n",
    "features = numeric_features\n",
    "target = config[\"main\"][\"target\"]\n",
    "data_train_path = Path.cwd().parent / config[\"main\"][\"data_train_path\"]\n",
    "\n",
    "train_df = pd.read_pickle(data_train_path)[features]\n",
    "train_df.shape"
   ]
  },
  {
   "cell_type": "code",
   "execution_count": 14,
   "metadata": {},
   "outputs": [],
   "source": [
    "report_name = \"application_train_report.pdf\"\n",
    "report_file = Path.cwd() / report_name\n",
    "\n",
    "profile = ProfileReport(train_df, title=\"Pandas Profiling Report\", explorative=True)\n",
    "#profile.to_file(report_name)"
   ]
  },
  {
   "cell_type": "code",
   "execution_count": null,
   "metadata": {},
   "outputs": [],
   "source": []
  },
  {
   "cell_type": "code",
   "execution_count": null,
   "metadata": {},
   "outputs": [],
   "source": []
  }
 ],
 "metadata": {
  "kernelspec": {
   "display_name": "myenv-credit-risk-machine-learning-pipeline-",
   "language": "python",
   "name": "myenv-credit-risk-machine-learning-pipeline-"
  },
  "language_info": {
   "codemirror_mode": {
    "name": "ipython",
    "version": 3
   },
   "file_extension": ".py",
   "mimetype": "text/x-python",
   "name": "python",
   "nbconvert_exporter": "python",
   "pygments_lexer": "ipython3",
   "version": "3.12.1"
  },
  "widgets": {
   "application/vnd.jupyter.widget-state+json": {
    "state": {
     "0c55ea2a4cb64b6699296e80d4497680": {
      "model_module": "@jupyter-widgets/controls",
      "model_module_version": "1.5.0",
      "model_name": "LabelModel",
      "state": {
       "layout": "IPY_MODEL_e2028d06e7fa4132936e356662c0e5e3",
       "style": "IPY_MODEL_0d3ac38d79134563ab3002b460a03915",
       "value": " 79.05MB of 79.05MB uploaded (0.00MB deduped)\r"
      }
     },
     "0d3ac38d79134563ab3002b460a03915": {
      "model_module": "@jupyter-widgets/controls",
      "model_module_version": "1.5.0",
      "model_name": "DescriptionStyleModel",
      "state": {
       "description_width": ""
      }
     },
     "1bc874a6a245477d97306014748d0818": {
      "model_module": "@jupyter-widgets/base",
      "model_module_version": "1.2.0",
      "model_name": "LayoutModel",
      "state": {}
     },
     "27cfb903bdb24f4296e697c0c6157254": {
      "model_module": "@jupyter-widgets/base",
      "model_module_version": "1.2.0",
      "model_name": "LayoutModel",
      "state": {}
     },
     "5e0be41c15164eb5b4be20e6b45c01c4": {
      "model_module": "@jupyter-widgets/controls",
      "model_module_version": "1.5.0",
      "model_name": "FloatProgressModel",
      "state": {
       "layout": "IPY_MODEL_27cfb903bdb24f4296e697c0c6157254",
       "max": 1,
       "style": "IPY_MODEL_5e1ed358f10843059a938762291f4df7",
       "value": 1
      }
     },
     "5e1ed358f10843059a938762291f4df7": {
      "model_module": "@jupyter-widgets/controls",
      "model_module_version": "1.5.0",
      "model_name": "ProgressStyleModel",
      "state": {
       "description_width": ""
      }
     },
     "e2028d06e7fa4132936e356662c0e5e3": {
      "model_module": "@jupyter-widgets/base",
      "model_module_version": "1.2.0",
      "model_name": "LayoutModel",
      "state": {}
     }
    },
    "version_major": 2,
    "version_minor": 0
   }
  }
 },
 "nbformat": 4,
 "nbformat_minor": 4
}
